{
  "nbformat": 4,
  "nbformat_minor": 0,
  "metadata": {
    "colab": {
      "provenance": []
    },
    "kernelspec": {
      "name": "python3",
      "display_name": "Python 3"
    },
    "language_info": {
      "name": "python"
    }
  },
  "cells": [
    {
      "cell_type": "markdown",
      "source": [
        "Q.1 What are data structures, and why are they important?\n",
        " - Data structures are a way of organizing and storing data in a computer so that it can be used efficiently.\n",
        "   it's important because they allow for efficient data access, manipulation and storage, better code organization.\n",
        "\n",
        "Q.2 Explain the difference between mutable and immutabledata types with examples.\n",
        " - Mutable data type is type of data where the data can be change.\n",
        "   EX:- Lists\n",
        "   Immutable data type is type of data where the data can't be change.\n",
        "   Ex:- tuples.\n",
        "\n",
        "Q.3 What are the main difference between lists and tuples in python?\n",
        "  - Lists are mutable that means their elements can be change but tuples are immutable that means their elements are not change.\n",
        "\n",
        "Q.4 Describe how dictionaries store data.\n",
        "  - Dictionaries are unordered collection of data and are represented with curly brackets {}. here data is stored in key : value pair format.\n",
        "\n",
        "Q.5 Why might you use a set instead of a list in python?\n",
        "  - Set is used instead of list in python because they are highly optimized for membership tests. set use less memory than lists and are less computationally expensive.\n",
        "\n",
        "Q.6 What is a string in python, and how is different from a list?\n",
        "  - A string is a sequence of characters between single or double quotes. A list is a sequence of items, where each item could be anything( an integer, a float, a string etc ).\n",
        "\n",
        "Q.7 How do tuples ensure data integrity in python?\n",
        "  - Tuples in python ensure data integrity primarily through their immutability. once a tuple is created, it's element cannot be modified, added or removed. this characteristic is maintain the reliability of data.\n",
        "\n",
        "Q.8 What is a hash table and how does it relate to dictionaries in python?\n",
        "  - A hash table is a data structure that stores data in key value pairs. where each key is unique and is associated with a specific value. it uses a hash function to compute an index for each key, which is then used to determine the location of the corresponding value in an underlying array.\n",
        "  In python dictionaries are implemented using hash table. the key in a dictionary are hashed using the built in hash () fuction and the resulting hash value are used to store and retrieve the corresponding values.\n",
        "\n",
        "Q.9 Can lists contain different data types in python?\n",
        " - yes, lists are contain different data types in pyhton.\n",
        "\n",
        "Q.10 Explain why strings are immutable in python?\n",
        "  - When a string reference is reinitialixed with a new value. it is creating a new object rather than overwriting the previous value. in pyhton strings are made immutable so that programmers cannot alter the contents of the object.\n",
        "\n",
        "Q.11 What advantages do dictionaries offer over lists for certain tasks?\n",
        "  - A list can store any data type. in contrast keys in the dictionary can be of any immutable data type and value can be of any data type. lists perform faster for ordered operations like sorting. while dictionaries perform faster for lookup operations.\n",
        "\n",
        "Q.12 Describe a scenario where using a tuple would be preferable over a list.\n",
        "  - In case of profile user name and user id of a bank account built by tuple would be preferable over a list. because the user id and profile user name not change due to safty region. here tuple use as string.\n",
        "\n",
        "Q.13 How do sets handle duplicate values in python?\n",
        "  - In python, sets are designed to store only unique elements. when you attempt to add a duplicate value to a set, it does not raise an error but it also does not add the duplicate, it simply ignores the attempt to add the duplicate.\n",
        "\n",
        "Q.14 How does the \"in\" keyword work differently for lists and dictionaries?\n",
        "  - in keyword can be used to test whether certain characters are present in a string or a certain value present in a list or tuple.\n",
        "  the in operation for the dictionary tests on keys. the key of the dictionary is a unique value as well as the set.\n",
        "\n",
        "Q.15 Can you modify the elements of a tuple? Explain why or why not.\n",
        "  - No, cannot directly modify the elements of a tuple after it has been created. tuples are immutable data structures, meaning their contents cannot be changed, added or removed from once they are defined.\n",
        "\n",
        "Q.16 What is a nested dictionary and give an example of its use case?\n",
        "  - Nested dictionaries are dictionaries that are stored as values within another divtionary.\n",
        "  use case:-\n",
        "           organizing hierarchical data, storing complex data, modeling entities with relationships.\n",
        "\n",
        "Q.17 Describe the time complexity of accessing elements in a dictionary.\n",
        "  - Accessing an element in a dictionary typically has an average time complexity of O(1). meaning it takes constant time regardless of the dictionary's size. this due to the use of a hash table, which allows for direct lookup of elements based on thier key.\n",
        "\n",
        "Q.18 In what situations are lists preferred over dictionaries?\n",
        "  - For quick data look ups, configurations or caches favor dictionaries. for ordered collections and sequence operations, such as maintaining a stack or queue, lists are more suitable.\n",
        "\n",
        "Q.19 Why are dictionaries considered unordered and how does that affect data retrieval?\n",
        "  - Dictionaries are unordered because python dictionaries are not intended to be in order. if we want to collect a set of objects on order, we have only one choice of accessing them through index.\n",
        "\n",
        "Q.20 Explain the difference between a list and a dictionary in terms of data retrival.\n",
        "  - In terms of data retrieval, lists are accessed by index, while dictionaries are accessed by key. this means that to retrieve a specific element from a list, use its numarical position. where as for a dictionary, use the associated key to find the corresponding value.\n",
        "   \n",
        "  \n"
      ],
      "metadata": {
        "id": "7h9lAqvS7nHu"
      }
    },
    {
      "cell_type": "code",
      "execution_count": null,
      "metadata": {
        "colab": {
          "base_uri": "https://localhost:8080/"
        },
        "id": "XuXU1Acs7j3l",
        "outputId": "ca8496e7-c97d-45df-f0ed-090f41e02888"
      },
      "outputs": [
        {
          "output_type": "stream",
          "name": "stdout",
          "text": [
            "my name is rakesh\n"
          ]
        },
        {
          "output_type": "execute_result",
          "data": {
            "text/plain": [
              "str"
            ]
          },
          "metadata": {},
          "execution_count": 2
        }
      ],
      "source": [
        "#Q.1 Write a code to create a string with your name and print it.\n",
        "a = (\"my name is rakesh\")\n",
        "print(a)\n",
        "type(a)"
      ]
    },
    {
      "cell_type": "code",
      "source": [
        "#Q.2 Write a code to find the length of the string \"Hello World\"\n",
        "b = (\"Hello World\")\n",
        "len(b)"
      ],
      "metadata": {
        "colab": {
          "base_uri": "https://localhost:8080/"
        },
        "id": "ixVaSWNhWJxE",
        "outputId": "733b922f-9207-4319-a208-48fc6e96c5c5"
      },
      "execution_count": null,
      "outputs": [
        {
          "output_type": "execute_result",
          "data": {
            "text/plain": [
              "11"
            ]
          },
          "metadata": {},
          "execution_count": 4
        }
      ]
    },
    {
      "cell_type": "code",
      "source": [
        "#Q.3 Write a code to slice the first 3 characters from the string \"python programming\".\n",
        "c = (\"python programming\")\n",
        "c[0:3]"
      ],
      "metadata": {
        "colab": {
          "base_uri": "https://localhost:8080/",
          "height": 35
        },
        "id": "mCedngEeWp_r",
        "outputId": "cf35373c-b16d-4a7a-d119-6f3b598f02a0"
      },
      "execution_count": null,
      "outputs": [
        {
          "output_type": "execute_result",
          "data": {
            "text/plain": [
              "'pyt'"
            ],
            "application/vnd.google.colaboratory.intrinsic+json": {
              "type": "string"
            }
          },
          "metadata": {},
          "execution_count": 5
        }
      ]
    },
    {
      "cell_type": "code",
      "source": [
        "#Q.4 Write a code to convert the string \"hello\" to uppercase.\n",
        "b = (\"hello\")\n",
        "b.upper()"
      ],
      "metadata": {
        "colab": {
          "base_uri": "https://localhost:8080/",
          "height": 35
        },
        "id": "ME7CaXhCXZq5",
        "outputId": "303f665c-bcfd-4aca-e622-d0925aa63f53"
      },
      "execution_count": null,
      "outputs": [
        {
          "output_type": "execute_result",
          "data": {
            "text/plain": [
              "'HELLO'"
            ],
            "application/vnd.google.colaboratory.intrinsic+json": {
              "type": "string"
            }
          },
          "metadata": {},
          "execution_count": 7
        }
      ]
    },
    {
      "cell_type": "code",
      "source": [
        "#Q.5 Write a code to replace the word \"apple\" with \"orange\" in the string \" i like apple\".\n",
        "d = (\"i like apple\")\n",
        "d.replace(\"apple\",\"orange\")\n"
      ],
      "metadata": {
        "colab": {
          "base_uri": "https://localhost:8080/",
          "height": 35
        },
        "id": "0jcv4tW0YBKX",
        "outputId": "d4467ec8-0eba-4b2f-8dbe-7a0e08de10a8"
      },
      "execution_count": null,
      "outputs": [
        {
          "output_type": "execute_result",
          "data": {
            "text/plain": [
              "'i like orange'"
            ],
            "application/vnd.google.colaboratory.intrinsic+json": {
              "type": "string"
            }
          },
          "metadata": {},
          "execution_count": 8
        }
      ]
    },
    {
      "cell_type": "code",
      "source": [
        "#Q.6 Write a code to create a list with numbers 1 to 5 and print.\n",
        "nums = range(1,6)\n",
        "print(list(nums))"
      ],
      "metadata": {
        "colab": {
          "base_uri": "https://localhost:8080/"
        },
        "id": "imHFTT5mYfTH",
        "outputId": "278e5969-710b-493e-cc54-5ec39a5f8065"
      },
      "execution_count": null,
      "outputs": [
        {
          "output_type": "stream",
          "name": "stdout",
          "text": [
            "[1, 2, 3, 4, 5]\n"
          ]
        }
      ]
    },
    {
      "cell_type": "code",
      "source": [
        "#Q.7 Write a code to append the number 10 to the list [1,2,3,4]\n",
        "list1 = [1,2,3,4]\n",
        "list1.append(10)\n",
        "print(list1)"
      ],
      "metadata": {
        "colab": {
          "base_uri": "https://localhost:8080/"
        },
        "id": "E5UHpse2ZofZ",
        "outputId": "fd57e6e1-87a1-4b12-e970-919574a36350"
      },
      "execution_count": null,
      "outputs": [
        {
          "output_type": "stream",
          "name": "stdout",
          "text": [
            "[1, 2, 3, 4, 10]\n"
          ]
        }
      ]
    },
    {
      "cell_type": "code",
      "source": [
        "#Q.8 Write a code to remove the number 3 from the list [1,2,3,4,5]\n",
        "list2 = [1,2,3,4,5]\n",
        "list2.remove(3)\n",
        "print(list2)"
      ],
      "metadata": {
        "colab": {
          "base_uri": "https://localhost:8080/"
        },
        "id": "_QZODkGmZ_zr",
        "outputId": "0400c53f-c520-4a15-93ea-b9de139a38fe"
      },
      "execution_count": null,
      "outputs": [
        {
          "output_type": "stream",
          "name": "stdout",
          "text": [
            "[1, 2, 4, 5]\n"
          ]
        }
      ]
    },
    {
      "cell_type": "code",
      "source": [
        "#Q.9 Write a code to access the second element in the list [\"a\", \"b\", \"c\", \"d\"]\n",
        "list3 = [\"a\", \"b\", \"c\", \"d\"]\n",
        "print(list3[1])"
      ],
      "metadata": {
        "colab": {
          "base_uri": "https://localhost:8080/"
        },
        "id": "GCa9p3HYaViz",
        "outputId": "7e22ad55-c285-444d-e8ab-de188386a905"
      },
      "execution_count": null,
      "outputs": [
        {
          "output_type": "stream",
          "name": "stdout",
          "text": [
            "b\n"
          ]
        }
      ]
    },
    {
      "cell_type": "code",
      "source": [
        "#Q.10 Write a code to reverse the list [10,20,30,40,50]\n",
        "list1 = [10,20,30,40,50]\n",
        "list1.reverse()\n",
        "print(list1)"
      ],
      "metadata": {
        "colab": {
          "base_uri": "https://localhost:8080/"
        },
        "id": "iWy8NX0Gaunn",
        "outputId": "15002f1f-bc67-4245-ed15-d359ab92b18e"
      },
      "execution_count": null,
      "outputs": [
        {
          "output_type": "stream",
          "name": "stdout",
          "text": [
            "[50, 40, 30, 20, 10]\n"
          ]
        }
      ]
    },
    {
      "cell_type": "code",
      "source": [
        "#Q.11 Write a code to create a tuple with the elements 100, 200, 300 and print it.\n",
        "tuple1 = (100,200,300)\n",
        "print(tuple1)\n",
        "type(tuple1)"
      ],
      "metadata": {
        "colab": {
          "base_uri": "https://localhost:8080/"
        },
        "id": "wztLk5LtbGl7",
        "outputId": "1ee155fc-b09c-4c97-a790-b90bd073abad"
      },
      "execution_count": null,
      "outputs": [
        {
          "output_type": "stream",
          "name": "stdout",
          "text": [
            "(100, 200, 300)\n"
          ]
        },
        {
          "output_type": "execute_result",
          "data": {
            "text/plain": [
              "tuple"
            ]
          },
          "metadata": {},
          "execution_count": 17
        }
      ]
    },
    {
      "cell_type": "code",
      "source": [
        "#Q.12 Write a code to access the second to last element of the tuple (\"red\", \"green\", \"blue\", \"yellow\")\n",
        "tuple2 = (\"red\", \"green\", \"blue\", \"yellow\")\n",
        "print(tuple2[1:4])"
      ],
      "metadata": {
        "colab": {
          "base_uri": "https://localhost:8080/"
        },
        "id": "SCVn9uOmbeu3",
        "outputId": "72fb26b5-6dbd-4019-ddfe-dc7da73c86be"
      },
      "execution_count": null,
      "outputs": [
        {
          "output_type": "stream",
          "name": "stdout",
          "text": [
            "('green', 'blue', 'yellow')\n"
          ]
        }
      ]
    },
    {
      "cell_type": "code",
      "source": [
        "#Q.13 Write a code to find the minimum number in tuple (10,20,5,15).\n",
        "tuple3 = (10,20,5,15)\n",
        "print(min(tuple3))"
      ],
      "metadata": {
        "id": "4rWoUzn8cKWv",
        "colab": {
          "base_uri": "https://localhost:8080/"
        },
        "outputId": "a8f00acf-6bd5-4089-82e3-c002f4d445f3"
      },
      "execution_count": 1,
      "outputs": [
        {
          "output_type": "stream",
          "name": "stdout",
          "text": [
            "5\n"
          ]
        }
      ]
    },
    {
      "cell_type": "code",
      "source": [
        "#Q.14 Write a code to find the index of the element \"cat\" in the tuple (\"dog\",\"cat\",\"rabbit\")\n",
        "tuple4 = (\"dog\",\"cat\",\"rabbit\")\n",
        "print(tuple4.index(\"cat\"))"
      ],
      "metadata": {
        "colab": {
          "base_uri": "https://localhost:8080/"
        },
        "id": "e2IL2ssoYsww",
        "outputId": "dff3072e-1118-4cea-8d35-d72c194cdf66"
      },
      "execution_count": 2,
      "outputs": [
        {
          "output_type": "stream",
          "name": "stdout",
          "text": [
            "1\n"
          ]
        }
      ]
    },
    {
      "cell_type": "code",
      "source": [
        "#Q.15 Write a code to create a tuple containing three different fruits and check if \"kiwi\" is in it.\n",
        "fruits = (\"apple\",\"banana\",\"kiwi\")\n",
        "if \"kiwi\" in fruits:\n",
        "  print(\"kiwi is in fruits\")\n",
        "else:\n",
        "  print(\"kiwi is not in fruits\")"
      ],
      "metadata": {
        "colab": {
          "base_uri": "https://localhost:8080/"
        },
        "id": "FkN5GWeeZHYb",
        "outputId": "3423edb8-6c50-4a82-d8b6-27402976c6a2"
      },
      "execution_count": 3,
      "outputs": [
        {
          "output_type": "stream",
          "name": "stdout",
          "text": [
            "kiwi is in fruits\n"
          ]
        }
      ]
    },
    {
      "cell_type": "code",
      "source": [
        "#Q.16 Write a code to create a set with the elements \"a\",\"b\",\"c\" and print it.\n",
        "set1 = {\"a\",\"b\",\"c\"}\n",
        "print(set1)\n",
        "type(set1)"
      ],
      "metadata": {
        "colab": {
          "base_uri": "https://localhost:8080/"
        },
        "id": "FXX--kONaLDE",
        "outputId": "3259a991-a83f-43d3-df6b-f4c97e0f3221"
      },
      "execution_count": 4,
      "outputs": [
        {
          "output_type": "stream",
          "name": "stdout",
          "text": [
            "{'c', 'a', 'b'}\n"
          ]
        },
        {
          "output_type": "execute_result",
          "data": {
            "text/plain": [
              "set"
            ]
          },
          "metadata": {},
          "execution_count": 4
        }
      ]
    },
    {
      "cell_type": "code",
      "source": [
        "#Q.17 Write a code to clear all elements from the set {1,2,3,4,5}\n",
        "set2 = {1,2,3,4,5}\n",
        "set2.clear()\n",
        "print(set2)"
      ],
      "metadata": {
        "colab": {
          "base_uri": "https://localhost:8080/"
        },
        "id": "_lAzAOvfarge",
        "outputId": "01fa2448-8199-41ea-e40a-e6548f0dbd32"
      },
      "execution_count": 5,
      "outputs": [
        {
          "output_type": "stream",
          "name": "stdout",
          "text": [
            "set()\n"
          ]
        }
      ]
    },
    {
      "cell_type": "code",
      "source": [
        "#Q.18 Write a code to remove the element 4 from the set {1,2,3,4}\n",
        "set3 = {1,2,3,4}\n",
        "set3.remove(4)\n",
        "print(set3)"
      ],
      "metadata": {
        "colab": {
          "base_uri": "https://localhost:8080/"
        },
        "id": "nJgTE0ZBa_wi",
        "outputId": "90a4006b-dbaa-40f5-e77f-31415a69d661"
      },
      "execution_count": 6,
      "outputs": [
        {
          "output_type": "stream",
          "name": "stdout",
          "text": [
            "{1, 2, 3}\n"
          ]
        }
      ]
    },
    {
      "cell_type": "code",
      "source": [
        "#Q.19 Write a code to find the union of two sets {1,2,3} and {3,4,5}.\n",
        "set1 = {1,2,3}\n",
        "set2 = {3,4,5}\n",
        "set1 | set2"
      ],
      "metadata": {
        "colab": {
          "base_uri": "https://localhost:8080/"
        },
        "id": "45JnAJosbVZa",
        "outputId": "88aef249-ced7-4592-8d92-c31609e60409"
      },
      "execution_count": 9,
      "outputs": [
        {
          "output_type": "execute_result",
          "data": {
            "text/plain": [
              "{1, 2, 3, 4, 5}"
            ]
          },
          "metadata": {},
          "execution_count": 9
        }
      ]
    },
    {
      "cell_type": "code",
      "source": [
        "#Q.20 Write a code to find the intersection of two set {1,2,3} and {2,3,4}\n",
        "set1 = {1,2,3}\n",
        "set2 = {2,3,4}\n",
        "set1 & set2"
      ],
      "metadata": {
        "colab": {
          "base_uri": "https://localhost:8080/"
        },
        "id": "5-VqxjRmby-3",
        "outputId": "386859b5-a743-4ddc-a7d0-53a9abd6f6aa"
      },
      "execution_count": 10,
      "outputs": [
        {
          "output_type": "execute_result",
          "data": {
            "text/plain": [
              "{2, 3}"
            ]
          },
          "metadata": {},
          "execution_count": 10
        }
      ]
    },
    {
      "cell_type": "code",
      "source": [
        "#Q.21 Write a code to create a dictionary with the keys \"name\", \"age\", and \"city\" and print it.\n",
        "dict1 = {\"name\":\"rakesh\",\"age\":20,\"city\":\"pune\"}\n",
        "print(dict1)\n",
        "type(dict1)"
      ],
      "metadata": {
        "colab": {
          "base_uri": "https://localhost:8080/"
        },
        "id": "TuqVIr1Dck3O",
        "outputId": "cb9f7075-d247-433e-a182-f11d55412093"
      },
      "execution_count": 11,
      "outputs": [
        {
          "output_type": "stream",
          "name": "stdout",
          "text": [
            "{'name': 'rakesh', 'age': 20, 'city': 'pune'}\n"
          ]
        },
        {
          "output_type": "execute_result",
          "data": {
            "text/plain": [
              "dict"
            ]
          },
          "metadata": {},
          "execution_count": 11
        }
      ]
    },
    {
      "cell_type": "code",
      "source": [
        "#Q.22 Write a code  to add a new key-value pair \"country\":\"USA\" to the dictionary {\"name\":\"Jone\", \"age\":25}\n",
        "dict1 = {\"name\":\"Jone\", \"age\":25}\n",
        "dict1[\"country\"] = \"USA\"\n",
        "print(dict1)"
      ],
      "metadata": {
        "colab": {
          "base_uri": "https://localhost:8080/"
        },
        "id": "Xw8LHwVUdBvG",
        "outputId": "04d3e46a-1c33-4915-80c1-01f2fe797ca6"
      },
      "execution_count": 13,
      "outputs": [
        {
          "output_type": "stream",
          "name": "stdout",
          "text": [
            "{'name': 'Jone', 'age': 25, 'country': 'USA'}\n"
          ]
        }
      ]
    },
    {
      "cell_type": "code",
      "source": [
        "#Q.23 Write a code to access the value associated with the key \"name\" in the dictionary {\"name\":\"Alice\", \"age\":30}\n",
        "dict1 = {\"name\":\"Alice\", \"age\":30}\n",
        "print(dict1[\"name\"])\n"
      ],
      "metadata": {
        "colab": {
          "base_uri": "https://localhost:8080/"
        },
        "id": "-gG4hKMFdoKy",
        "outputId": "e0e967c0-690d-47c7-eb00-b3a9a021e3df"
      },
      "execution_count": 14,
      "outputs": [
        {
          "output_type": "stream",
          "name": "stdout",
          "text": [
            "Alice\n"
          ]
        }
      ]
    },
    {
      "cell_type": "code",
      "source": [
        "#Q.24 Write a code to remove the key \"age\" from the dictionary {\"name\": \"Bob\", \"age\":22, \"city\":\"New york\"}\n",
        "dict1 = {\"name\": \"Bob\", \"age\":22, \"city\":\"New york\"}\n",
        "dict1.pop(\"age\")\n",
        "print(dict1)"
      ],
      "metadata": {
        "colab": {
          "base_uri": "https://localhost:8080/"
        },
        "id": "Cj7p3D76edj2",
        "outputId": "95f17403-4776-473d-d7be-9f47d0184d8f"
      },
      "execution_count": 15,
      "outputs": [
        {
          "output_type": "stream",
          "name": "stdout",
          "text": [
            "{'name': 'Bob', 'city': 'New york'}\n"
          ]
        }
      ]
    },
    {
      "cell_type": "code",
      "source": [
        "#Q.25 Write a code to check if the key \"city\" exists in the dictionary {\"name\":\"Alice\", \"city\":\"paris\"}\n",
        "dict1 = {\"name\":\"Alice\", \"city\":\"paris\"}\n",
        "if \"city\" in dict1:\n",
        "  print(\"city is in dict1\")\n",
        "else:\n",
        "  print(\"city is not in dict1\")"
      ],
      "metadata": {
        "colab": {
          "base_uri": "https://localhost:8080/"
        },
        "id": "URHkrVGbe_ZS",
        "outputId": "4e063e61-9844-47ce-f3e4-2b4c2cab6e45"
      },
      "execution_count": 16,
      "outputs": [
        {
          "output_type": "stream",
          "name": "stdout",
          "text": [
            "city is in dict1\n"
          ]
        }
      ]
    },
    {
      "cell_type": "code",
      "source": [
        "#Q.26 Write a code to create a list, a tuple and a dictionary and print them all.\n",
        "list1 = [1,2,3,4]\n",
        "print(list1)\n",
        "type(list1)\n",
        "tuple1 = (1,2,3,4)\n",
        "print(tuple1)\n",
        "type(tuple1)\n",
        "dict1 = {\"name\":\"rakesh\",\"age\":20,\"city\":\"pune\"}\n",
        "print(dict1)\n",
        "type(dict1)\n"
      ],
      "metadata": {
        "colab": {
          "base_uri": "https://localhost:8080/"
        },
        "id": "RH9fT3B-fmmu",
        "outputId": "dba5ea5d-f4ad-4c64-c32e-b56e1a3402d8"
      },
      "execution_count": 18,
      "outputs": [
        {
          "output_type": "stream",
          "name": "stdout",
          "text": [
            "[1, 2, 3, 4]\n",
            "(1, 2, 3, 4)\n",
            "{'name': 'rakesh', 'age': 20, 'city': 'pune'}\n"
          ]
        },
        {
          "output_type": "execute_result",
          "data": {
            "text/plain": [
              "dict"
            ]
          },
          "metadata": {},
          "execution_count": 18
        }
      ]
    },
    {
      "cell_type": "code",
      "source": [
        "#Q.27 Write a code to create a list of 5 random numbers between 1 and 100, sort it in ascending order and print the result.\n",
        "no = 5\n",
        "a = 1 # starting num\n",
        "b = 100 # ending num\n",
        "c = [random.randint(a,b) for i in range(no)]\n",
        "c.sort()\n",
        "print(c)"
      ],
      "metadata": {
        "colab": {
          "base_uri": "https://localhost:8080/"
        },
        "id": "qtgxt9UAiq-B",
        "outputId": "4641ac07-c61e-4b07-d8a9-d1e562465416"
      },
      "execution_count": 24,
      "outputs": [
        {
          "output_type": "stream",
          "name": "stdout",
          "text": [
            "[40, 44, 65, 66, 93]\n"
          ]
        }
      ]
    },
    {
      "cell_type": "code",
      "source": [
        "#Q.28 Write a code to create a list with strings and print the element at the third index.\n",
        "a = [\"apple\", \"banana\", \"mango\", \"lichi\", \"potato\"]\n",
        "print(a[3])"
      ],
      "metadata": {
        "colab": {
          "base_uri": "https://localhost:8080/"
        },
        "id": "FHwjW5yLjlfn",
        "outputId": "18168402-a2bd-489f-d511-3776ee724bcc"
      },
      "execution_count": 26,
      "outputs": [
        {
          "output_type": "stream",
          "name": "stdout",
          "text": [
            "lichi\n"
          ]
        }
      ]
    },
    {
      "cell_type": "code",
      "source": [
        "#Q.29 Write a code to combine two dictionaries into one and print the result.\n",
        "dict1 = {\"veg\":\"potato\",\"price\":20}\n",
        "dict2 = {\"name\":\"Jone\", \"age\":25}\n",
        "merged_dict = {**dict1, **dict2}\n",
        "print(merged_dict)"
      ],
      "metadata": {
        "colab": {
          "base_uri": "https://localhost:8080/"
        },
        "id": "oRF29MUIknSG",
        "outputId": "2de2b9f2-798c-4d7f-97a1-bcab0fa1fc4f"
      },
      "execution_count": 29,
      "outputs": [
        {
          "output_type": "stream",
          "name": "stdout",
          "text": [
            "{'veg': 'potato', 'price': 20, 'name': 'Jone', 'age': 25}\n"
          ]
        }
      ]
    },
    {
      "cell_type": "code",
      "source": [
        "#Q.30 Write a code to convert a list of strings into a set.\n",
        "list1 = [\"rakesh\", \"rajib\", \"mona\", \"sudip\",\"surjo\"]\n",
        "c = set(list1)\n",
        "print(c)\n",
        "type(c)"
      ],
      "metadata": {
        "colab": {
          "base_uri": "https://localhost:8080/"
        },
        "id": "D-NKEpSbl3JX",
        "outputId": "b35eddd5-7a96-402d-d3b9-afd5a912e60b"
      },
      "execution_count": 31,
      "outputs": [
        {
          "output_type": "stream",
          "name": "stdout",
          "text": [
            "{'mona', 'rajib', 'sudip', 'rakesh', 'surjo'}\n"
          ]
        },
        {
          "output_type": "execute_result",
          "data": {
            "text/plain": [
              "set"
            ]
          },
          "metadata": {},
          "execution_count": 31
        }
      ]
    }
  ]
}